{
 "cells": [
  {
   "cell_type": "raw",
   "metadata": {},
   "source": [
    "1. Boletins de Ocorrências em Rodovias Federais"
   ]
  },
  {
   "cell_type": "raw",
   "metadata": {},
   "source": [
    "2. Membros (nome e número de matrícula)\n",
    "Daniel Souza de Campos - 2018054664\n",
    "Davi Lage Borges Souza 201805440\n",
    "Gean Guilherme dos Santos 2018054362\n",
    "Victor Vieira Brito Amaral Pessoa 2018054346"
   ]
  },
  {
   "cell_type": "raw",
   "metadata": {},
   "source": [
    "3. Descrição dos dados (qual a URL? qual o domínio? como os dados foram processados?)\n",
    "\n",
    "    Os dados foram obtidos por meio dos vários arquivos .csv disponibilizados em <http://dados.gov.br/dataset/acidentes-rodovias-federais><10/11/2019>. Eles descrevem um banco de dados de diferentes tipos de ocorrências nas estradas brasileiras ao longo do período entre 1° semestre de 2007 até o 1° semestre de 2013. \n",
    "    Os dados estão divididos em várias tabelas diferentes, entre elas: Pessoa, Ocorrencia, OcorrenciaPessoa, Veiculo, TipoVeiculo, TipoAcidente, OcorrenciaAcidente, Municipio, UF.\n",
    "    Apesar do grande número de tabelas e de informações sobre o banco de dados já préviamente informada no mesmo link acima, várias vezes foi necessário rever e modificar os arquivos .csv por causa de infelizes duplicatas mesmo os dados sendo, teóricamente, únicos nas tabelas. Além disso, foram percebidas várias chaves estrangeiras que deixaram de ser informadas pelo dicionário de dados do banco (novamente, já provido no link anterior).\n",
    "    Também foi necessário desenvolver um algoritmo que criasse o banco de dados às nossas exigências e às exigências dos dados e o populasse.\n"
   ]
  },
  {
   "cell_type": "raw",
   "metadata": {},
   "source": [
    "4. Diagrama ER\n"
   ]
  },
  {
   "cell_type": "code",
   "execution_count": 14,
   "metadata": {},
   "outputs": [
    {
     "data": {
      "text/html": [
       "<img src='https://raw.githubusercontent.com/Pendulun/TP2-IBD/master/DiagramaER.png'>\n"
      ],
      "text/plain": [
       "<IPython.core.display.HTML object>"
      ]
     },
     "metadata": {},
     "output_type": "display_data"
    }
   ],
   "source": [
    "%%html \n",
    "<img src='https://raw.githubusercontent.com/Pendulun/TP2-IBD/master/DiagramaER.png'>"
   ]
  },
  {
   "cell_type": "raw",
   "metadata": {},
   "source": [
    "5. Diagrama relacional"
   ]
  },
  {
   "cell_type": "code",
   "execution_count": 13,
   "metadata": {},
   "outputs": [
    {
     "data": {
      "text/html": [
       "<img src='https://raw.githubusercontent.com/Pendulun/TP2-IBD/master/DiagramaRelacional.png'>\n"
      ],
      "text/plain": [
       "<IPython.core.display.HTML object>"
      ]
     },
     "metadata": {},
     "output_type": "display_data"
    }
   ],
   "source": [
    "%%html \n",
    "<img src='https://raw.githubusercontent.com/Pendulun/TP2-IBD/master/DiagramaRelacional.png'>"
   ]
  },
  {
   "cell_type": "raw",
   "metadata": {},
   "source": [
    "6. Consultas"
   ]
  },
  {
   "cell_type": "raw",
   "metadata": {},
   "source": [
    "6.1 Duas consultas envolvendo seleção e projeção"
   ]
  },
  {
   "cell_type": "raw",
   "metadata": {},
   "source": [
    "6.1.1 Consulta 1 (duas versões)\n",
    "(SELECT NUM_OCORRENCIAS, COUNT(opepesid) FROM (SELECT COUNT(opepesid) AS NUM_OCORRENCIAS, opepesid FROM OCORRENCIAPESSOA GROUP BY opepesid) GROUP BY NUM_OCORRENCIAS) "
   ]
  },
  {
   "cell_type": "raw",
   "metadata": {},
   "source": [
    "6.1.2 Consulta 2 (duas versões)"
   ]
  },
  {
   "cell_type": "raw",
   "metadata": {},
   "source": [
    "6.2 Três consultas envolvendo junção de duas relações"
   ]
  },
  {
   "cell_type": "raw",
   "metadata": {},
   "source": [
    "6.2.1 Consulta 3 (duas versões)"
   ]
  },
  {
   "cell_type": "raw",
   "metadata": {},
   "source": [
    "6.2.2 Consulta 4 (duas versões)"
   ]
  },
  {
   "cell_type": "raw",
   "metadata": {},
   "source": [
    "6.2.3 Consulta 5 (duas versões)"
   ]
  },
  {
   "cell_type": "raw",
   "metadata": {},
   "source": [
    "6.3 Três consultas envolvendo junção de três ou mais relações"
   ]
  },
  {
   "cell_type": "raw",
   "metadata": {},
   "source": [
    "6.3.1 Consulta 6 (duas versões)"
   ]
  },
  {
   "cell_type": "raw",
   "metadata": {},
   "source": [
    "6.3.2 Consulta 7 (duas versões)"
   ]
  },
  {
   "cell_type": "raw",
   "metadata": {},
   "source": [
    "6.3.3 Consulta 8 (duas versões)"
   ]
  },
  {
   "cell_type": "raw",
   "metadata": {},
   "source": [
    "6.4 Duas consultas envolvendo agregação sobre junção de duas ou mais relações"
   ]
  },
  {
   "cell_type": "raw",
   "metadata": {},
   "source": [
    "6.4.1 Consulta 9 (duas versões)"
   ]
  },
  {
   "cell_type": "raw",
   "metadata": {},
   "source": [
    "6.4.2 Consulta 10 (duas versões)"
   ]
  },
  {
   "cell_type": "raw",
   "metadata": {},
   "source": [
    "7. Autoavaliação dos membros"
   ]
  }
 ],
 "metadata": {
  "kernelspec": {
   "display_name": "Python 3",
   "language": "python",
   "name": "python3"
  },
  "language_info": {
   "codemirror_mode": {
    "name": "ipython",
    "version": 3
   },
   "file_extension": ".py",
   "mimetype": "text/x-python",
   "name": "python",
   "nbconvert_exporter": "python",
   "pygments_lexer": "ipython3",
   "version": "3.7.3"
  }
 },
 "nbformat": 4,
 "nbformat_minor": 2
}
