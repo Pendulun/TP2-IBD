{
 "cells": [
  {
   "cell_type": "markdown",
   "metadata": {},
   "source": [
    "## 1. Boletins de Ocorrências em Rodovias Federais"
   ]
  },
  {
   "cell_type": "markdown",
   "metadata": {},
   "source": [
    "## 2. Membros (nome e número de matrícula)\n",
    "* Daniel Souza de Campos - 2018054664\n",
    "* Davi Lage Borges Souza 201805440\n",
    "* Gean Guilherme dos Santos 2018054362\n",
    "* Victor Vieira Brito Amaral Pessoa 2018054346"
   ]
  },
  {
   "cell_type": "markdown",
   "metadata": {},
   "source": [
    "## 3. Descrição dos dados (qual a URL? qual o domínio? como os dados foram processados?)\n",
    "\n",
    "    Os dados foram obtidos por meio dos vários arquivos .csv disponibilizados em <http://dados.gov.br/dataset/acidentes-rodovias-federais><10/11/2019>. Eles descrevem um banco de dados de diferentes tipos de ocorrências nas estradas brasileiras ao longo do período entre 1° semestre de 2007 até o 1° semestre de 2013. \n",
    "    Os dados estão divididos em várias tabelas diferentes, entre elas: Pessoa, Ocorrencia, OcorrenciaPessoa, Veiculo, TipoVeiculo, TipoAcidente, OcorrenciaAcidente, Municipio, UF.\n",
    "    Apesar do grande número de tabelas e de informações sobre o banco de dados já préviamente informada no mesmo link acima, várias vezes foi necessário rever e modificar os arquivos .csv por causa de infelizes duplicatas mesmo os dados sendo, teóricamente, únicos nas tabelas. Além disso, foram percebidas várias chaves estrangeiras que deixaram de ser informadas pelo dicionário de dados do banco (novamente, já provido no link anterior).\n",
    "    Também foi necessário desenvolver um algoritmo que criasse o banco de dados às nossas exigências e às exigências dos dados e o populasse.\n"
   ]
  },
  {
   "cell_type": "markdown",
   "metadata": {},
   "source": [
    "## 4. Diagrama ER"
   ]
  },
  {
   "cell_type": "code",
   "execution_count": 1,
   "metadata": {},
   "outputs": [
    {
     "data": {
      "text/html": [
       "<img src='https://raw.githubusercontent.com/Pendulun/TP2-IBD/master/DiagramaER.png'>"
      ],
      "text/plain": [
       "<IPython.core.display.HTML object>"
      ]
     },
     "metadata": {},
     "output_type": "display_data"
    }
   ],
   "source": [
    "%%html \n",
    "<img src='https://raw.githubusercontent.com/Pendulun/TP2-IBD/master/DiagramaER.png'>"
   ]
  },
  {
   "cell_type": "markdown",
   "metadata": {},
   "source": [
    "## 5. Diagrama relacional"
   ]
  },
  {
   "cell_type": "code",
   "execution_count": 2,
   "metadata": {},
   "outputs": [
    {
     "data": {
      "text/html": [
       "<img src='https://raw.githubusercontent.com/Pendulun/TP2-IBD/master/DiagramaRelacional.png'>"
      ],
      "text/plain": [
       "<IPython.core.display.HTML object>"
      ]
     },
     "metadata": {},
     "output_type": "display_data"
    }
   ],
   "source": [
    "%%html \n",
    "<img src='https://raw.githubusercontent.com/Pendulun/TP2-IBD/master/DiagramaRelacional.png'>"
   ]
  },
  {
   "cell_type": "markdown",
   "metadata": {},
   "source": [
    "## 6. Consultas"
   ]
  },
  {
   "cell_type": "markdown",
   "metadata": {},
   "source": [
    "### 6.1 Duas consultas envolvendo seleção e projeção"
   ]
  },
  {
   "cell_type": "raw",
   "metadata": {},
   "source": [
    "6.1.1 Consulta 1\n",
    "\n",
    "O número de pessoas diferentes que se envolveram em um número igual de ocorrências\n",
    "\n",
    "VERSÃO1\n",
    "\n",
    "(SELECT NUM_OCORRENCIAS, COUNT(opepesid) FROM (SELECT COUNT(opepesid) AS NUM_OCORRENCIAS, opepesid FROM OCORRENCIAPESSOA GROUP BY opepesid) GROUP BY NUM_OCORRENCIAS) \n",
    "7.56 s ± 218 ms per loop (mean ± std. dev. of 7 runs, 1 loop each)\n",
    "\n",
    "VERSÃO 2\n",
    "\n",
    "SELECT COUNT(pesid), NUMOCORRENCIAS FROM (SELECT pesid, COUNT(opeid) AS NUMOCORRENCIAS FROM (PESSOA JOIN OCORRENCIAPESSOA ON pesid=opepesid) GROUP BY pesid ) GROUP BY NUMOCORRENCIAS\n",
    "\n",
    "42 s ± 1.72 s per loop (mean ± std. dev. of 7 runs, 1 loop each)\n",
    "\n",
    "\n"
   ]
  },
  {
   "cell_type": "raw",
   "metadata": {},
   "source": [
    "6.1.2 Consulta 2\n",
    "\n",
    "Quais marcas de veículo que estão registrados e foram montados após 2010\n",
    "\n",
    "(SELECT tmvdescricao FROM VEICULO, MARCAVEICULO WHERE veitmvcodigo = tmvcodigo AND veiano > 2010 GROUP BY tmvdescricao)\n",
    "\n",
    "1.93 s ± 164 ms per loop (mean ± std. dev. of 7 runs, 1 loop each)\n",
    "\n"
   ]
  },
  {
   "cell_type": "markdown",
   "metadata": {},
   "source": [
    "### 6.2 Três consultas envolvendo junção de duas relações"
   ]
  },
  {
   "cell_type": "raw",
   "metadata": {},
   "source": [
    "6.2.1 Consulta 3 \n",
    "\n",
    "O número de ocorrências diferentes para cada tipo de acidente diferente\n",
    "\n",
    "VERSÃO 1\n",
    "\n",
    "(SELECT ttadescricao, COUNT(ttacodigo) AS NUM_OCORRENCIAS FROM (OCORRENCIAACIDENTE JOIN TIPOACIDENTE ON ttacodigo = oacttacodigo) GROUP BY ttadescricao ORDER BY NUM_OCORRENCIAS DESC)\n",
    "\n",
    "2.3 s ± 356 ms per loop (mean ± std. dev. of 7 runs, 1 loop each)\n",
    "\n",
    "VERSÃO 2\n",
    "\n",
    "SELECT ttadescricao, COUNT(ttacodigo) AS NUM_OCORRENCIAS FROM OCORRENCIAACIDENTE, TIPOACIDENTE WHERE ttacodigo = oacttacodigo GROUP BY ttadescricao ORDER BY NUM_OCORRENCIAS DESC\n",
    "\n",
    "1.64 s ± 88.5 ms per loop (mean ± std. dev. of 7 runs, 1 loop each)"
   ]
  },
  {
   "cell_type": "raw",
   "metadata": {},
   "source": [
    "6.2.2 Consulta 4\n",
    "\n",
    "Número de carros registrados por pais\n",
    "\n",
    "(SELECT COUNT(veipaisorigem) AS numcarros, tpadescricao FROM VEICULO, PAISES WHERE veipaisorigem = tpacodigo GROUP BY veipaisorigem ORDER BY numcarros DESC)\n",
    "\n",
    "3.1 s ± 480 ms per loop (mean ± std. dev. of 7 runs, 1 loop each)\n"
   ]
  },
  {
   "cell_type": "raw",
   "metadata": {},
   "source": [
    "6.2.3 Consulta 5 \n"
   ]
  },
  {
   "cell_type": "markdown",
   "metadata": {},
   "source": [
    "### 6.3 Três consultas envolvendo junção de três ou mais relações"
   ]
  },
  {
   "cell_type": "raw",
   "metadata": {},
   "source": [
    "6.3.1 Consulta 6 \n",
    "\n",
    "O número de ocorrências por unidade federativa\n",
    "\n",
    "(SELECT COUNT(ocoid) AS NUM_OCORRENCIAS, tufdenominacao FROM ( OCORRENCIA JOIN MUNICIPIO ON ocomunicipio = tmucodigo JOIN UF ON tmuuf = tufuf) GROUP BY tufdenominacao ORDER BY NUM_OCORRENCIAS DESC)\n",
    "\n",
    "13.4 s ± 700 ms per loop (mean ± std. dev. of 7 runs, 1 loop each)"
   ]
  },
  {
   "cell_type": "raw",
   "metadata": {},
   "source": [
    "6.3.2 Consulta 7 \n",
    "\n",
    "Numero de carros de cada cor por municipio\n",
    "\n",
    "(SELECT tmudenominacao, tcedescricao, COUNT(*) AS numcarros FROM VEICULO, CORVEICULO, MUNICIPIO WHERE veimunicipio = tmucodigo AND veitcecodigo = tcecodigo GROUP BY tmudenominacao, tcedescricao ORDER BY tmudenominacao, numcarros DESC)\n",
    "\n",
    "25.6 s ± 1.58 s per loop (mean ± std. dev. of 7 runs, 1 loop each)\n"
   ]
  },
  {
   "cell_type": "raw",
   "metadata": {},
   "source": [
    "6.3.3 Consulta 8 "
   ]
  },
  {
   "cell_type": "markdown",
   "metadata": {},
   "source": [
    "### 6.4 Duas consultas envolvendo agregação sobre junção de duas ou mais relações"
   ]
  },
  {
   "cell_type": "raw",
   "metadata": {},
   "source": [
    "6.4.1 Consulta 9 \n",
    "\n",
    "O número de pessoas diferentes que se envolveram em um número igual de ocorrências \n",
    "\n",
    "VERSÃO 1\n",
    "\n",
    "(SELECT NUM_OCORRENCIAS, COUNT(opepesid) FROM (SELECT COUNT(opepesid) AS NUM_OCORRENCIAS, opepesid FROM OCORRENCIAPESSOA GROUP BY opepesid) GROUP BY NUM_OCORRENCIAS)\n",
    "\n",
    "7.56 s ± 218 ms per loop (mean ± std. dev. of 7 runs, 1 loop each)\n",
    "\n",
    "VERSÃO 2\n",
    "\n",
    "SELECT COUNT(pesid), NUMOCORRENCIAS FROM (SELECT pesid, COUNT(opeid) AS NUMOCORRENCIAS FROM (PESSOA JOIN OCORRENCIAPESSOA ON pesid=opepesid) GROUP BY pesid ) GROUP BY NUMOCORRENCIAS\n",
    "\n",
    "42 s ± 1.72 s per loop (mean ± std. dev. of 7 runs, 1 loop each)\n",
    "\n"
   ]
  },
  {
   "cell_type": "raw",
   "metadata": {},
   "source": [
    "6.4.2 Consulta 10 \n",
    "\n",
    "O número de carros envolvidos em acidentes agrupado por marca e município\n",
    "\n",
    "(SELECT tmudenominacao AS municipio, COUNT(*) AS numveiculos, tmvdescricao AS marcaveiculo FROM VEICULO, MARCAVEICULO, MUNICIPIO WHERE veimunicipio = tmucodigo AND veitmvcodigo = tmvcodigo AND veimunicipio > 0 AND veiqtdocupantes > 0 GROUP BY tmudenominacao, tmvdescricao)\n",
    "\n",
    "35.3 s ± 1.87 s per loop (mean ± std. dev. of 7 runs, 1 loop each)\n",
    "\n"
   ]
  },
  {
   "cell_type": "markdown",
   "metadata": {},
   "source": [
    "## 7. Autoavaliação dos membros"
   ]
  },
  {
   "cell_type": "markdown",
   "metadata": {},
   "source": [
    "#### Daniel - Desenvolvi 1° versão do código que cria e popula o Banco de Dados, 4 consultas diferentes, ajudei a melhorar o powerpoint, criei o repositório no GitHub e um google sheets para que pudéssemos controlar as diversas consultas feitas, ajudei a completar  esse relatório, criei o Diagrama-ER e modifiquei o Diagrama Relacional já informado para às nossas especificações, criei outro template para as consultas de cada membro do grupo."
   ]
  },
  {
   "cell_type": "markdown",
   "metadata": {},
   "source": [
    "#### Davi"
   ]
  },
  {
   "cell_type": "markdown",
   "metadata": {},
   "source": [
    "#### Gean"
   ]
  },
  {
   "cell_type": "markdown",
   "metadata": {},
   "source": [
    "#### Victor"
   ]
  }
 ],
 "metadata": {
  "kernelspec": {
   "display_name": "Python 3",
   "language": "python",
   "name": "python3"
  },
  "language_info": {
   "codemirror_mode": {
    "name": "ipython",
    "version": 3
   },
   "file_extension": ".py",
   "mimetype": "text/x-python",
   "name": "python",
   "nbconvert_exporter": "python",
   "pygments_lexer": "ipython3",
   "version": "3.7.3"
  }
 },
 "nbformat": 4,
 "nbformat_minor": 2
}
