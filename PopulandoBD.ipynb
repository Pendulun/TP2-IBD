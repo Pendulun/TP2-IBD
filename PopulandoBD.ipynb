{
 "cells": [
  {
   "cell_type": "code",
   "execution_count": 140,
   "metadata": {
    "colab": {},
    "colab_type": "code",
    "id": "JqzHRUJDspNN"
   },
   "outputs": [],
   "source": [
    "import io\n",
    "import sqlite3\n",
    "import pandas as pd\n",
    "import numpy as np\n",
    "import chardet"
   ]
  },
  {
   "cell_type": "code",
   "execution_count": 3,
   "metadata": {
    "colab": {},
    "colab_type": "code",
    "id": "GdUmRu9msqe8"
   },
   "outputs": [],
   "source": [
    "conn = sqlite3.connect('./BDpopulado/Ocorrencias.db')\n",
    "cursor = conn.cursor()"
   ]
  },
  {
   "cell_type": "code",
   "execution_count": 39,
   "metadata": {},
   "outputs": [],
   "source": [
    "def tab_ocorrencia():\n",
    "    cursor.execute(\"CREATE TABLE IF NOT EXISTS OCORRENCIA(\"+\n",
    "                   \"ocoid INTEGER, \"+\n",
    "                   \"ocolocal INTEGER, \"+\n",
    "                   \"ocostatus CHAR, \"+\n",
    "                   \"ocomunicipio CHAR, \"+\n",
    "                   \"ocosentido CHAR, \"+\n",
    "                   \"ocodataregistro INTEGER,\"+\n",
    "                   \"ocotipo CHAR,\"+\n",
    "                   \"ococomid INTEGER, \"+\n",
    "                   \"ocoidorigem INTEGER, \"+\n",
    "                   \"ocodatafim INTEGER,\"+\n",
    "                   \"CONSTRAINT OCOPK PRIMARY KEY (ocoid)\"+\n",
    "                    \");\")"
   ]
  },
  {
   "cell_type": "code",
   "execution_count": 69,
   "metadata": {},
   "outputs": [],
   "source": [
    "def tab_ocorrencia_acidente():\n",
    "    cursor.execute(\"CREATE TABLE IF NOT EXISTS OCORRENCIAACIDENTE(\"+\n",
    "                   \"oacocoid INTEGER, \"+\n",
    "                   \"oacttacodigo INTEGER, \"+\n",
    "                   \"oactcacodigo INTEGER, \"+\n",
    "                   \"oacdano CHAR, \"+\n",
    "                   \"oacdanoterc CHAR, \"+\n",
    "                   \"oacdanoamb CHAR, \"+\n",
    "                   \"oaclatitude CHAR, \"+\n",
    "                   \"oaclongitude CHAR, \"+\n",
    "                   \"oacdistab DECIMAL, \"+\n",
    "                   \"oacdistac DECIMAL, \"+\n",
    "                   \"oacdistbc DECIMAL, \"+\n",
    "                   \"oacmodelopista CHAR, \"+\n",
    "                   \"oacsentido1 VARCHAR(40), \"+\n",
    "                   \"oacsentido2 VARCHAR(40), \"+\n",
    "                   \"oacqtdfaixa1 INTEGER, \"+\n",
    "                   \"oacqtdfaixa2 INTEGER, \"+\n",
    "                   \"oacacostamento1 CHAR, \"+\n",
    "                   \"oacacostamento2 CHAR, \"+\n",
    "                   \"oaccanteiro CHAR(1), \"+\n",
    "                   \"oaclinhacentral INT, \"+\n",
    "                   \"oacorientpista CHAR(1), \"+\n",
    "                   \"oacgirafundo CHAR(1), \"+\n",
    "                   \"oacversaocroqui CHAR(1) DEFAULT '1' , \"+\n",
    "                   \"CONSTRAINT OACPK PRIMARY KEY (oacocoid),\"+\n",
    "                   \"CONSTRAINT fk_tipoacidente_ocorrenciaacidente FOREIGN KEY \"+\n",
    "                   \"(oacttacodigo) REFERENCES TIPOACIDENTE(ttacodigo),\"+\n",
    "                   \"CONSTRAINT fk_ocorrencia_ocorrenciaacidente FOREIGN KEY \"+\n",
    "                   \"(oactcacodigo) REFERENCES OCORRENCIA(ocoid)\"+\n",
    "                    \");\")"
   ]
  },
  {
   "cell_type": "code",
   "execution_count": 70,
   "metadata": {},
   "outputs": [],
   "source": [
    "tab_ocorrencia_acidente()"
   ]
  },
  {
   "cell_type": "code",
   "execution_count": 64,
   "metadata": {},
   "outputs": [],
   "source": [
    "def tab_tipo_acidente():\n",
    "    cursor.execute(\"CREATE TABLE IF NOT EXISTS TIPOACIDENTE(\"+\n",
    "                   \"ttacodigo INTEGER, \"+\n",
    "                   \"ttadescricao INTEGER, \"+\n",
    "                   \"ttaatualiza CHAR, \"+\n",
    "                   \"ttaativo CHAR, \"+\n",
    "                   \"CONSTRAINT TTAPK PRIMARY KEY (ttacodigo)\"\n",
    "                    \");\")"
   ]
  },
  {
   "cell_type": "code",
   "execution_count": 65,
   "metadata": {},
   "outputs": [],
   "source": [
    "tab_tipo_acidente()"
   ]
  },
  {
   "cell_type": "code",
   "execution_count": 102,
   "metadata": {},
   "outputs": [],
   "source": [
    "def tab_tipo_envolvido():\n",
    "    cursor.execute(\"CREATE TABLE IF NOT EXISTS TIPOENVOLVIDO(\"+\n",
    "                   \"ttecodigo INTEGER, \"+\n",
    "                   \"ttedescricao VARCHAR(30), \"+\n",
    "                   \"tteatualiza CHAR, \"+\n",
    "                   \"tteativo CHAR, \"+\n",
    "                   \"CONSTRAINT TTEPK PRIMARY KEY (ttecodigo)\"\n",
    "                    \");\")"
   ]
  },
  {
   "cell_type": "code",
   "execution_count": 21,
   "metadata": {},
   "outputs": [],
   "source": [
    "def tab_tipo_veiculo():\n",
    "    cursor.execute(\"CREATE TABLE IF NOT EXISTS TIPOVEICULO(\"+\n",
    "                   \"tvvcodigo INTEGER, \"+\n",
    "                   \"tvvdescricao CHAR, \"+\n",
    "                   \"tvvatualiza VARCHAR(25), \"+\n",
    "                   \"tvvrelacidente CHAR, \"+\n",
    "                   \"tvvativo CHAR, \"+\n",
    "                   \"CONSTRAINT TVVPK PRIMARY KEY (tvvcodigo)\"\n",
    "                    \");\")"
   ]
  },
  {
   "cell_type": "code",
   "execution_count": 33,
   "metadata": {},
   "outputs": [],
   "source": [
    "def tab_uf():\n",
    "    cursor.execute(\"CREATE TABLE IF NOT EXISTS UF(\"+\n",
    "                   \"tufuf CHAR(2), \"+\n",
    "                   \"tufdenominacao VARCHAR(60), \"+\n",
    "                   \"CONSTRAINT TUFPK PRIMARY KEY (tufuf)\"\n",
    "                    \");\")"
   ]
  },
  {
   "cell_type": "code",
   "execution_count": 82,
   "metadata": {},
   "outputs": [],
   "source": [
    "def tab_unidade_operacional():\n",
    "    cursor.execute(\"CREATE TABLE IF NOT EXISTS UNIDADEOPERACIONAL(\"+\n",
    "                   \"uniid INTEGER, \"+\n",
    "                   \"uniunidade CHAR, \"+\n",
    "                   \"unilotacao CHAR, \"+\n",
    "                   \"unisigla CHAR, \"+\n",
    "                   \"unittucodigo INTEGER, \"+\n",
    "                   \"uniunidaderesponsavel INTEGER, \"+\n",
    "                   \"unidenominacao VARCHAR(80), \"+\n",
    "                   \"unimunicipio CHAR, \"+\n",
    "                   \"unilocal INTEGER, \"+\n",
    "                   \"unilatitude CHAR, \"+\n",
    "                   \"unilongitude CHAR, \"+\n",
    "                   \"unihelicoptero CHAR, \"+\n",
    "                   \"CONSTRAINT UNIPK PRIMARY KEY (uniid),\"+\n",
    "                   \"CONSTRAINT fk_tipounidadeoperacional_unidadeoperacional_unittucodigo FOREIGN KEY \"+\n",
    "                   \"(unittucodigo) REFERENCES TIPOUNIDADEOPERACIONAL(ttucodigo),\"+\n",
    "                   \"CONSTRAINT fk_municipio_unidadeoperacional FOREIGN KEY \"+\n",
    "                   \"(unimunicipio) REFERENCES MUNICIPIO(tmucodigo)\"+\n",
    "                    \");\")"
   ]
  },
  {
   "cell_type": "code",
   "execution_count": 35,
   "metadata": {},
   "outputs": [],
   "source": [
    "def tab_veiculo():\n",
    "    cursor.execute(\"CREATE TABLE IF NOT EXISTS VEICULO(\"+\n",
    "                   \"veiid INTEGER, \"+\n",
    "                   \"veiano CHAR, \"+\n",
    "                   \"veiqtdocupantes INTEGER, \"+\n",
    "                   \"veimunicipio CHAR, \"+\n",
    "                   \"veimunorigem CHAR, \"+\n",
    "                   \"veipaisorigem INTEGER, \"+\n",
    "                   \"veimundestino CHAR, \"+\n",
    "                   \"veipaisdestino INTEGER, \"+\n",
    "                   \"veiproprietario CHAR(1), \"+\n",
    "                   \"CONSTRAINT VEIPK PRIMARY KEY (veiid)\"\n",
    "                    \");\")"
   ]
  },
  {
   "cell_type": "code",
   "execution_count": 86,
   "metadata": {},
   "outputs": [],
   "source": [
    "def tab_tipo_unidade_operacional():\n",
    "    cursor.execute(\"CREATE TABLE IF NOT EXISTS TIPOUNIDADEOPERACIONAL(\"+\n",
    "                   \"ttucodigo SERIAL, \"+\n",
    "                   \"ttudescricao VARCHAR(20), \"+\n",
    "                   \"ttuatualiza CHAR(1), \"+\n",
    "                   \"CONSTRAINT TTUPK PRIMARY KEY (ttucodigo)\"\n",
    "                    \");\")"
   ]
  },
  {
   "cell_type": "code",
   "execution_count": 37,
   "metadata": {},
   "outputs": [],
   "source": [
    "def tab_ocorrencia_pessoa():\n",
    "    cursor.execute(\"CREATE TABLE IF NOT EXISTS OCORRENCIAPESSOA(\"+\n",
    "                   \"opeid SERIAL, \"+\n",
    "                   \"opeocoid INT, \"+\n",
    "                   \"opepesid INT, \"+\n",
    "                   \"opeportevalidade DATE, \"+\n",
    "                   \"opettecodigo INTEGER, \"+\n",
    "                   \"opeanexo CHAR(1), \"+\n",
    "                   \"opecondalegadas CHAR(1), \"+\n",
    "                   \"CONSTRAINT OPEPK PRIMARY KEY (opeid),\"+\n",
    "                   \"CONSTRAINT fk_tipoenvolvido_ocorrenciapessoa FOREIGN KEY \"+\n",
    "                   \"(opettecodigo) REFERENCES TIPOENVOLVIDO(ttecodigo),\"+\n",
    "                   \"CONSTRAINT fk_pessoa_ocorrenciapessoa FOREIGN KEY \"+\n",
    "                   \"(opepesid) REFERENCES PESSOA(pesid),\"+\n",
    "                   \"CONSTRAINT fk_ocorrencia_ocorrenciapessoa FOREIGN KEY \"+\n",
    "                   \"(opeocoid) REFERENCES OCORRENCIA(ocoid)\"+\n",
    "                    \");\")"
   ]
  },
  {
   "cell_type": "code",
   "execution_count": 38,
   "metadata": {},
   "outputs": [],
   "source": [
    "def tab_ocorrencia_veiculo():\n",
    "    cursor.execute(\"CREATE TABLE IF NOT EXISTS OCORRENCIAVEICULO(\"+\n",
    "                   \"ocvid INTEGER, \"+\n",
    "                   \"ocvocoid INTEGER, \"+\n",
    "                   \"ocvveiid INTEGER, \"+\n",
    "                   \"CONSTRAINT OCVPK PRIMARY KEY (ocvid)\"\n",
    "                    \");\")"
   ]
  },
  {
   "cell_type": "code",
   "execution_count": 39,
   "metadata": {},
   "outputs": [],
   "source": [
    "def tab_pessoa():\n",
    "    cursor.execute(\"CREATE TABLE IF NOT EXISTS PESSOA(\"+\n",
    "                   \"pesid INTEGER, \"+\n",
    "                   \"pesdatanascimento DATE, \"+\n",
    "                   \"pesnaturalidade CHAR, \"+\n",
    "                   \"pesnacionalidade INTEGER, \"+\n",
    "                   \"pessexo CHAR, \"+\n",
    "                   \"pesteccodigo INTEGER, \"+\n",
    "                   \"pestgicodigo INTEGER, \"+\n",
    "                   \"pesmunicipio CHAR, \"+\n",
    "                   \"pestopcodigo INTEGER, \"+\n",
    "                   \"pesmunicipioori CHAR, \"+\n",
    "                   \"pespaisori INTEGER, \"+\n",
    "                   \"pesmunicipiodest CHAR, \"+\n",
    "                   \"pespaisdest INTEGER, \"+\n",
    "                   \"pesveiid INTEGER, \"+\n",
    "                   \"pescinto CHAR, \"+\n",
    "                   \"pescapacete CHAR, \"+\n",
    "                   \"peshabilitado CHAR, \"+\n",
    "                   \"pessocorrido CHAR, \"+\n",
    "                   \"pesdormindo CHAR, \"+\n",
    "                   \"pesalcool CHAR, \"+\n",
    "                   \"peskmpercorre DECIMAL, \"+\n",
    "                   \"peshorapercorre CHAR, \"+\n",
    "                   \"pescategcnh CHAR, \"+\n",
    "                   \"pesufcnh CHAR, \"+\n",
    "                   \"pespaiscnh INTEGER, \"+\n",
    "                   \"pesdatahabil DATE, \"+\n",
    "                   \"pesdatavalidade DATE, \"+\n",
    "                   \"pesidade INTEGER, \"+\n",
    "                   \"pesaltura DECIMAL, \"+\n",
    "                   \"pespeso INTEGER, \"+\n",
    "                   \"pescicatriz CHAR, \"+\n",
    "                   \"pestatuagem CHAR, \"+\n",
    "                   \"pessinal CHAR, \"+\n",
    "                   \"peslesao CHAR, \"+\n",
    "                   \"pestcccodigo INTEGER, \"+\n",
    "                   \"pestctcodigo INTEGER, \"+\n",
    "                   \"pestclcodigo INTEGER, \"+\n",
    "                   \"pesoenid INTEGER, \"+\n",
    "                   \"CONSTRAINT PESPK PRIMARY KEY (pesid)\"\n",
    "                    \");\")"
   ]
  },
  {
   "cell_type": "code",
   "execution_count": 80,
   "metadata": {},
   "outputs": [],
   "source": [
    "def tab_municipio():\n",
    "    cursor.execute(\"CREATE TABLE IF NOT EXISTS MUNICIPIO(\"+\n",
    "                   \"tmucodigo CHAR(5), \"+\n",
    "                   \"tmudenominacao VARCHAR(25), \"+\n",
    "                   \"tmuuf CHAR(2), \"+\n",
    "                   \"CONSTRAINT TMUPK PRIMARY KEY (tmucodigo)\"\n",
    "                    \");\")"
   ]
  },
  {
   "cell_type": "code",
   "execution_count": 41,
   "metadata": {},
   "outputs": [],
   "source": [
    "def tab_local_br():\n",
    "    cursor.execute(\"CREATE TABLE IF NOT EXISTS LOCALBR(\"+\n",
    "                   \"lbrid SERIAL, \"+\n",
    "                   \"lbruf CHAR(2), \"+\n",
    "                   \"lbrbr CHAR(3), \"+\n",
    "                   \"lbrkm CHAR(5), \"+\n",
    "                   \"lbrlatitude CHAR(20), \"+\n",
    "                   \"lbrlongitude CHAR(20), \"+\n",
    "                   \"lbrpnvid INT, \"+\n",
    "                   \"lbratualiza CHAR(1), \"+\n",
    "                   \"CONSTRAINT LBRPK PRIMARY KEY (lbrid)\"\n",
    "                    \");\")"
   ]
  },
  {
   "cell_type": "code",
   "execution_count": 42,
   "metadata": {},
   "outputs": [],
   "source": [
    "def tab_marca_veiculo():\n",
    "    cursor.execute(\"CREATE TABLE IF NOT EXISTS MARCAVEICULO(\"+\n",
    "                   \"tmvcodigo SERIAL, \"+\n",
    "                   \"tmvdescricao VARCHAR(60) NOT NULL, \"+\n",
    "                   \"tmvatualiza CHAR, \"+\n",
    "                   \"CONSTRAINT TMVPK PRIMARY KEY (tmvcodigo)\"\n",
    "                    \");\")"
   ]
  },
  {
   "cell_type": "code",
   "execution_count": 43,
   "metadata": {},
   "outputs": [],
   "source": [
    "def cria_bd(): \n",
    "    tab_ocorrencia()\n",
    "    tab_ocorrencia_acidente()\n",
    "    tab_tipo_acidente()\n",
    "    tab_tipo_envolvido()\n",
    "    tab_tipo_veiculo()\n",
    "    tab_uf()\n",
    "    tab_unidade_operacional()\n",
    "    tab_veiculo()\n",
    "    tab_tipo_unidade_operacional()\n",
    "    tab_ocorrencia_pessoa()\n",
    "    tab_unidade_operacional()\n",
    "    tab_ocorrencia_veiculo()\n",
    "    tab_pessoa()\n",
    "    tab_municipio()\n",
    "    tab_local_br()\n",
    "    tab_marca_veiculo()"
   ]
  },
  {
   "cell_type": "code",
   "execution_count": 44,
   "metadata": {},
   "outputs": [],
   "source": [
    "cria_bd()"
   ]
  },
  {
   "cell_type": "code",
   "execution_count": 40,
   "metadata": {
    "colab": {},
    "colab_type": "code",
    "id": "BCiuN41Dsvyo"
   },
   "outputs": [],
   "source": [
    "def popula_tab_veiculo():\n",
    "        cursor.execute(\"DELETE FROM VEICULO\")\n",
    "        veiculos = pd.read_csv(\"./BDS/Tab_Pessoas_Veiculos/veiculo.csv\",index_col=False,header=0,sep=\";\",\n",
    "                       usecols=[\"veiid\", \"veiano\",\"veiqtdocupantes\",\"veimunicipio\",\"veimunorigem\",\n",
    "                               \"veipaisorigem\",\"veimundestino\",\"veipaisdestino\",\"veiproprietario\"])\n",
    "        conn.commit()\n",
    "        veiculos.to_sql(name=\"VEICULO\", con=conn, if_exists=\"append\",index=False)"
   ]
  },
  {
   "cell_type": "code",
   "execution_count": null,
   "metadata": {},
   "outputs": [],
   "source": [
    "popula_tab_veiculo()"
   ]
  },
  {
   "cell_type": "code",
   "execution_count": 3,
   "metadata": {},
   "outputs": [],
   "source": [
    "def popula_tab_pessoa():\n",
    "        cursor.execute(\"DELETE FROM PESSOA\")\n",
    "        conn.commit()\n",
    "        pessoas = pd.read_csv(\"./BDS/Tab_Pessoas_Veiculos/tabelaPessoa.csv\",index_col=False,header=0,sep=\";\",low_memory=False)\n",
    "        colunas = pessoas.columns\n",
    "        certos=0\n",
    "        ruins=0\n",
    "        count=0\n",
    "        for index,row in pessoas.iterrows():\n",
    "            try:\n",
    "                cursor.execute(\"INSERT INTO PESSOA VALUES (?,?,?,?,?,?,?,?,?,?,?,?,?,?,?,?,?,?,?,?,?,?,?,?,?,?\"+\n",
    "                               \",?,?,?,?,?,?,?,?,?,?,?,?)\",(row[colunas[0]],row[colunas[1]],row[colunas[2]],row[colunas[3]],\n",
    "                                                           row[colunas[4]],row[colunas[5]],row[colunas[6]],row[colunas[7]], \n",
    "                                                            row[colunas[8]],row[colunas[9]],row[colunas[10]],row[colunas[11]],\n",
    "                                                            row[colunas[12]],row[colunas[13]],row[colunas[14]],row[colunas[15]],\n",
    "                                                           row[colunas[16]],row[colunas[17]],row[colunas[18]],row[colunas[19]],\n",
    "                                                           row[colunas[20]],row[colunas[21]],row[colunas[22]],row[colunas[23]],\n",
    "                                                           row[colunas[24]],row[colunas[25]],row[colunas[26]],row[colunas[27]],\n",
    "                                                           row[colunas[28]],row[colunas[29]],row[colunas[30]],row[colunas[31]],\n",
    "                                                           row[colunas[32]],row[colunas[33]],row[colunas[34]],row[colunas[35]],\n",
    "                                                           row[colunas[36]],row[colunas[37]]))\n",
    "                certos=certos+1\n",
    "                count=count+1\n",
    "                if count == 40000:\n",
    "                    conn.commit()\n",
    "                    count=0\n",
    "            except:\n",
    "                ruins=ruins+1\n",
    "                continue\n",
    "        print(\"certos:\\n\",certos)\n",
    "        print(\"ruins:\\n\",ruins)"
   ]
  },
  {
   "cell_type": "code",
   "execution_count": 4,
   "metadata": {},
   "outputs": [
    {
     "name": "stdout",
     "output_type": "stream",
     "text": [
      "certos:\n",
      " 1025493\n",
      "ruins:\n",
      " 23076\n"
     ]
    }
   ],
   "source": [
    "popula_tab_pessoa()"
   ]
  },
  {
   "cell_type": "code",
   "execution_count": 24,
   "metadata": {},
   "outputs": [],
   "source": [
    "def popula_ocorrencia_veiculo():\n",
    "    cursor.execute(\"DELETE FROM OCORRENCIAVEICULO\")\n",
    "    print(\"deletou tudo\")\n",
    "    conn.commit()\n",
    "    ocorrencia_veiculo = pd.read_csv(\"./BDS/Tab_Pessoas_Veiculos/ocorrenciaveiculo.csv\",index_col=False,header=0,sep=\"|\",low_memory=False)\n",
    "    ocorrencia_veiculo.to_sql(name=\"OCORRENCIAVEICULO\", con=conn, if_exists=\"append\",index=False)"
   ]
  },
  {
   "cell_type": "code",
   "execution_count": 25,
   "metadata": {},
   "outputs": [
    {
     "name": "stdout",
     "output_type": "stream",
     "text": [
      "deletou tudo\n"
     ]
    }
   ],
   "source": [
    "popula_ocorrencia_veiculo()"
   ]
  },
  {
   "cell_type": "code",
   "execution_count": 47,
   "metadata": {},
   "outputs": [],
   "source": [
    "def popula_local_br():\n",
    "    cursor.execute(\"DELETE FROM LOCALBR\")\n",
    "    print(\"deletou tudo\")\n",
    "    conn.commit()\n",
    "    local_br = pd.read_csv(\"./BDS/Domínios/localbr.csv\",index_col=False,header=0,sep=\";\",low_memory=False)\n",
    "    local_br.to_sql(name=\"LOCALBR\", con=conn, if_exists=\"append\",index=False)"
   ]
  },
  {
   "cell_type": "code",
   "execution_count": 48,
   "metadata": {},
   "outputs": [
    {
     "name": "stdout",
     "output_type": "stream",
     "text": [
      "deletou tudo\n"
     ]
    }
   ],
   "source": [
    "popula_local_br()"
   ]
  },
  {
   "cell_type": "code",
   "execution_count": 40,
   "metadata": {},
   "outputs": [],
   "source": [
    "def popula_uf():\n",
    "    cursor.execute(\"DELETE FROM UF\")\n",
    "    print(\"deletou tudo\")\n",
    "    conn.commit()\n",
    "    uf = pd.read_csv(\"./BDS/Domínios/uf.csv\",index_col=False,header=0,sep=\";\",low_memory=False,encoding=\"ISO-8859-1\")\n",
    "    uf.to_sql(name=\"UF\", con=conn, if_exists=\"append\",index=False)"
   ]
  },
  {
   "cell_type": "code",
   "execution_count": 38,
   "metadata": {
    "scrolled": true
   },
   "outputs": [
    {
     "name": "stdout",
     "output_type": "stream",
     "text": [
      "deletou tudo\n"
     ]
    }
   ],
   "source": [
    "popula_uf()"
   ]
  },
  {
   "cell_type": "code",
   "execution_count": 41,
   "metadata": {},
   "outputs": [],
   "source": [
    "def popula_marca_veiculo():\n",
    "    cursor.execute(\"DELETE FROM MARCAVEICULO\")\n",
    "    print(\"deletou tudo\")\n",
    "    conn.commit()\n",
    "    marca_veiculo = pd.read_csv(\"./BDS/Domínios/marcadeveiculo.csv\",index_col=False,header=0,sep=\";\",low_memory=False,encoding=\"ISO-8859-1\")\n",
    "    marca-veiculo.to_sql(name=\"MARCAVEICULO\", con=conn, if_exists=\"append\",index=False)"
   ]
  },
  {
   "cell_type": "code",
   "execution_count": 36,
   "metadata": {},
   "outputs": [
    {
     "name": "stdout",
     "output_type": "stream",
     "text": [
      "deletou tudo\n"
     ]
    }
   ],
   "source": [
    "popula_marca_veiculo()"
   ]
  },
  {
   "cell_type": "code",
   "execution_count": 42,
   "metadata": {},
   "outputs": [],
   "source": [
    "def popula_tipo_veiculo():\n",
    "    cursor.execute(\"DELETE FROM TIPOVEICULO\")\n",
    "    print(\"deletou tudo\")\n",
    "    conn.commit()\n",
    "    tipo_veiculo = pd.read_csv(\"./BDS/Domínios/tipoveiculo.csv\",index_col=False,header=0,sep=\";\",low_memory=False,encoding=\" ISO-8859-1\")\n",
    "    tipo_veiculo.to_sql(name=\"TIPOVEICULO\", con=conn, if_exists=\"append\",index=False)"
   ]
  },
  {
   "cell_type": "code",
   "execution_count": 33,
   "metadata": {},
   "outputs": [
    {
     "name": "stdout",
     "output_type": "stream",
     "text": [
      "deletou tudo\n"
     ]
    }
   ],
   "source": [
    "popula_tipo_veiculo()"
   ]
  },
  {
   "cell_type": "code",
   "execution_count": 51,
   "metadata": {},
   "outputs": [],
   "source": [
    "def popula_ocorrencia():\n",
    "    cursor.execute(\"DELETE FROM OCORRENCIA\")\n",
    "    print(\"deletou tudo\")\n",
    "    conn.commit()\n",
    "    for ano in range(2007,2014):\n",
    "        print(\"ano: {}\".format(ano))\n",
    "        for semestre in range(1,3):\n",
    "            print(\" semestre: {}\\n\".format(semestre))\n",
    "            if(ano==2013 and semestre!=2):\n",
    "                ocorrencia = pd.read_csv(\"./BDS/\"+str(ano)+\"_\"+str(semestre)+\"/brbrasil_\"+str(semestre)+\n",
    "                                         \"_semestre_\"+str(ano)+\"/ocorrencia_\"+str(semestre)+\"_Semestre_\"+\n",
    "                                         str(ano)+\".csv\",index_col=False,header=0,sep=\";\",\n",
    "                                         low_memory=False,encoding=\"ISO-8859-1\")\n",
    "                ocorrencia.to_sql(name=\"OCORRENCIA\", con=conn, if_exists=\"append\",index=False)"
   ]
  },
  {
   "cell_type": "code",
   "execution_count": 52,
   "metadata": {},
   "outputs": [
    {
     "name": "stdout",
     "output_type": "stream",
     "text": [
      "deletou tudo\n",
      "ano: 2007\n",
      " semestre: 1\n",
      "\n",
      " semestre: 2\n",
      "\n",
      "ano: 2008\n",
      " semestre: 1\n",
      "\n",
      " semestre: 2\n",
      "\n",
      "ano: 2009\n",
      " semestre: 1\n",
      "\n",
      " semestre: 2\n",
      "\n",
      "ano: 2010\n",
      " semestre: 1\n",
      "\n",
      " semestre: 2\n",
      "\n",
      "ano: 2011\n",
      " semestre: 1\n",
      "\n",
      " semestre: 2\n",
      "\n",
      "ano: 2012\n",
      " semestre: 1\n",
      "\n",
      " semestre: 2\n",
      "\n",
      "ano: 2013\n",
      " semestre: 1\n",
      "\n",
      " semestre: 2\n",
      "\n"
     ]
    }
   ],
   "source": [
    "popula_ocorrencia()"
   ]
  },
  {
   "cell_type": "code",
   "execution_count": 60,
   "metadata": {},
   "outputs": [],
   "source": [
    "def popula_tipo_acidente():\n",
    "    cursor.execute(\"DELETE FROM TIPOACIDENTE\")\n",
    "    print(\"deletou tudo\")\n",
    "    conn.commit()\n",
    "    tipo_acidente = pd.read_csv(\"./BDS/Domínios/tipoAcidente.csv\",index_col=False,header=0,sep=\";\",low_memory=False,encoding=\" ISO-8859-1\")\n",
    "    tipo_acidente.to_sql(name=\"TIPOACIDENTE\", con=conn, if_exists=\"append\",index=False)"
   ]
  },
  {
   "cell_type": "code",
   "execution_count": 66,
   "metadata": {},
   "outputs": [
    {
     "name": "stdout",
     "output_type": "stream",
     "text": [
      "deletou tudo\n"
     ]
    }
   ],
   "source": [
    "popula_tipo_acidente()"
   ]
  },
  {
   "cell_type": "code",
   "execution_count": 72,
   "metadata": {},
   "outputs": [],
   "source": [
    "def popula_ocorrencia_acidente():\n",
    "    cursor.execute(\"DELETE FROM OCORRENCIAACIDENTE\")\n",
    "    print(\"deletou tudo\")\n",
    "    conn.commit()\n",
    "    for ano in range(2007,2014):\n",
    "        print(\"ano: {}\".format(ano))\n",
    "        for semestre in range(1,3):\n",
    "            print(\" semestre: {}\\n\".format(semestre))\n",
    "            if(ano==2013 and semestre!=2):\n",
    "                ocorrencia_acidente = pd.read_csv(\"./BDS/\"+str(ano)+\"_\"+str(semestre)+\"/brbrasil_\"+str(semestre)+\n",
    "                                         \"_semestre_\"+str(ano)+\"/ocorrenciaacidente_\"+str(semestre)+\"_Semestre_\"+\n",
    "                                                  str(ano)+\".csv\",index_col=False,header=0,sep=\";\",\n",
    "                                         low_memory=False,encoding=\"ISO-8859-1\")\n",
    "                ocorrencia_acidente.to_sql(name=\"OCORRENCIAACIDENTE\", con=conn, if_exists=\"append\",index=False)"
   ]
  },
  {
   "cell_type": "code",
   "execution_count": 73,
   "metadata": {},
   "outputs": [
    {
     "name": "stdout",
     "output_type": "stream",
     "text": [
      "deletou tudo\n",
      "ano: 2007\n",
      " semestre: 1\n",
      "\n",
      " semestre: 2\n",
      "\n",
      "ano: 2008\n",
      " semestre: 1\n",
      "\n",
      " semestre: 2\n",
      "\n",
      "ano: 2009\n",
      " semestre: 1\n",
      "\n",
      " semestre: 2\n",
      "\n",
      "ano: 2010\n",
      " semestre: 1\n",
      "\n",
      " semestre: 2\n",
      "\n",
      "ano: 2011\n",
      " semestre: 1\n",
      "\n",
      " semestre: 2\n",
      "\n",
      "ano: 2012\n",
      " semestre: 1\n",
      "\n",
      " semestre: 2\n",
      "\n",
      "ano: 2013\n",
      " semestre: 1\n",
      "\n",
      " semestre: 2\n",
      "\n"
     ]
    }
   ],
   "source": [
    "popula_ocorrencia_acidente()"
   ]
  },
  {
   "cell_type": "code",
   "execution_count": 84,
   "metadata": {},
   "outputs": [],
   "source": [
    "def popula_municipio():\n",
    "    cursor.execute(\"DELETE FROM MUNICIPIO\")\n",
    "    print(\"deletou tudo\")\n",
    "    conn.commit()\n",
    "    municipio = pd.read_csv(\"./BDS/Domínios/municipio.csv\",index_col=False,header=0,sep=\";\",low_memory=False,encoding=\" ISO-8859-1\")\n",
    "    municipio.to_sql(name=\"MUNICIPIO\", con=conn, if_exists=\"append\",index=False)"
   ]
  },
  {
   "cell_type": "code",
   "execution_count": 85,
   "metadata": {},
   "outputs": [
    {
     "name": "stdout",
     "output_type": "stream",
     "text": [
      "deletou tudo\n"
     ]
    }
   ],
   "source": [
    "popula_municipio()"
   ]
  },
  {
   "cell_type": "code",
   "execution_count": 88,
   "metadata": {},
   "outputs": [],
   "source": [
    "def popula_tipo_unidade_operacional():\n",
    "    cursor.execute(\"DELETE FROM TIPOUNIDADEOPERACIONAL\")\n",
    "    print(\"deletou tudo\")\n",
    "    conn.commit()\n",
    "    tipo_unidade_operacional = pd.read_csv(\"./BDS/Domínios/tipounidadeoperacional.csv\",index_col=False,header=0,sep=\";\",low_memory=False,encoding=\" ISO-8859-1\")\n",
    "    tipo_unidade_operacional.to_sql(name=\"TIPOUNIDADEOPERACIONAL\", con=conn, if_exists=\"append\",index=False)"
   ]
  },
  {
   "cell_type": "code",
   "execution_count": 89,
   "metadata": {},
   "outputs": [
    {
     "name": "stdout",
     "output_type": "stream",
     "text": [
      "deletou tudo\n"
     ]
    }
   ],
   "source": [
    "popula_tipo_unidade_operacional()"
   ]
  },
  {
   "cell_type": "code",
   "execution_count": 96,
   "metadata": {},
   "outputs": [],
   "source": [
    "def popula_unidade_operacional():\n",
    "    cursor.execute(\"DELETE FROM UNIDADEOPERACIONAL\")\n",
    "    print(\"deletou tudo\")\n",
    "    conn.commit()\n",
    "    unidade_operacional = pd.read_csv(\"./BDS/Domínios/unidadeoperacional.csv\",index_col=False,header=0,sep=\";\",low_memory=False,encoding=\"ISO-8859-1\")\n",
    "    unidade_operacional.to_sql(name=\"UNIDADEOPERACIONAL\", con=conn, if_exists=\"append\",index=False)"
   ]
  },
  {
   "cell_type": "code",
   "execution_count": 97,
   "metadata": {},
   "outputs": [
    {
     "name": "stdout",
     "output_type": "stream",
     "text": [
      "deletou tudo\n"
     ]
    }
   ],
   "source": [
    "popula_unidade_operacional()"
   ]
  },
  {
   "cell_type": "code",
   "execution_count": 152,
   "metadata": {},
   "outputs": [],
   "source": [
    "def popula_tipo_envolvido():\n",
    "    cursor.execute(\"DELETE FROM TIPOENVOLVIDO\")\n",
    "    print(\"deletou tudo\")\n",
    "    conn.commit()\n",
    "    tipo_envolvido = pd.read_csv(\"./BDS/Domínios/tipoenvolvido.csv\",index_col=False,header=0,sep=\";\",low_memory=False,encoding=\"ISO-8859-1\")\n",
    "    tipo_envolvido.to_sql(name=\"TIPOENVOLVIDO\", con=conn, if_exists=\"append\",index=False)"
   ]
  },
  {
   "cell_type": "code",
   "execution_count": 153,
   "metadata": {},
   "outputs": [
    {
     "name": "stdout",
     "output_type": "stream",
     "text": [
      "deletou tudo\n"
     ]
    }
   ],
   "source": [
    "popula_tipo_envolvido()"
   ]
  },
  {
   "cell_type": "code",
   "execution_count": 154,
   "metadata": {},
   "outputs": [],
   "source": [
    "def popula_ocorrencia_pessoa():\n",
    "    cursor.execute(\"DELETE FROM OCORRENCIAPESSOA\")\n",
    "    print(\"deletou tudo\")\n",
    "    conn.commit()\n",
    "    for ano in range(2007,2014):\n",
    "        print(\"ano: {}\".format(ano))\n",
    "        for semestre in range(1,3):\n",
    "            print(\" semestre: {}\\n\".format(semestre))\n",
    "            if(ano==2013 and semestre!=2):\n",
    "                ocorrencia_pessoa = pd.read_csv(\"./BDS/\"+str(ano)+\"_\"+str(semestre)+\"/brbrasil_\"+str(semestre)+\n",
    "                                         \"_semestre_\"+str(ano)+\"/ocorrenciaPessoa_\"+str(semestre)+\"_Semestre_\"+str(ano)+\".csv\"\n",
    "                                        ,index_col=False,header=0,sep=\";\",\n",
    "                                         low_memory=False,encoding=\"ISO-8859-1\")\n",
    "                ocorrencia_pessoa.to_sql(name=\"OCORRENCIAPESSOA\", con=conn, if_exists=\"append\",index=False)"
   ]
  },
  {
   "cell_type": "code",
   "execution_count": 155,
   "metadata": {},
   "outputs": [
    {
     "name": "stdout",
     "output_type": "stream",
     "text": [
      "deletou tudo\n",
      "ano: 2007\n",
      " semestre: 1\n",
      "\n",
      " semestre: 2\n",
      "\n",
      "ano: 2008\n",
      " semestre: 1\n",
      "\n",
      " semestre: 2\n",
      "\n",
      "ano: 2009\n",
      " semestre: 1\n",
      "\n",
      " semestre: 2\n",
      "\n",
      "ano: 2010\n",
      " semestre: 1\n",
      "\n",
      " semestre: 2\n",
      "\n",
      "ano: 2011\n",
      " semestre: 1\n",
      "\n",
      " semestre: 2\n",
      "\n",
      "ano: 2012\n",
      " semestre: 1\n",
      "\n",
      " semestre: 2\n",
      "\n",
      "ano: 2013\n",
      " semestre: 1\n",
      "\n",
      " semestre: 2\n",
      "\n"
     ]
    }
   ],
   "source": [
    "popula_ocorrencia_pessoa()"
   ]
  },
  {
   "cell_type": "code",
   "execution_count": null,
   "metadata": {},
   "outputs": [],
   "source": []
  }
 ],
 "metadata": {
  "colab": {
   "name": "PopulandoBD.ipynb",
   "provenance": []
  },
  "kernelspec": {
   "display_name": "Python 3",
   "language": "python",
   "name": "python3"
  },
  "language_info": {
   "codemirror_mode": {
    "name": "ipython",
    "version": 3
   },
   "file_extension": ".py",
   "mimetype": "text/x-python",
   "name": "python",
   "nbconvert_exporter": "python",
   "pygments_lexer": "ipython3",
   "version": "3.7.3"
  }
 },
 "nbformat": 4,
 "nbformat_minor": 1
}
