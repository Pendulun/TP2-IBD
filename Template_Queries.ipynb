{
  "nbformat": 4,
  "nbformat_minor": 0,
  "metadata": {
    "kernelspec": {
      "display_name": "Python 3",
      "language": "python",
      "name": "python3"
    },
    "language_info": {
      "codemirror_mode": {
        "name": "ipython",
        "version": 3
      },
      "file_extension": ".py",
      "mimetype": "text/x-python",
      "name": "python",
      "nbconvert_exporter": "python",
      "pygments_lexer": "ipython3",
      "version": "3.7.3"
    },
    "colab": {
      "name": "Template Queries.ipynb",
      "provenance": []
    }
  },
  "cells": [
    {
      "cell_type": "code",
      "metadata": {
        "id": "yVqQXhqVK7Ip",
        "colab_type": "code",
        "colab": {}
      },
      "source": [
        "import io\n",
        "import sqlite3\n",
        "import pandas as pd"
      ],
      "execution_count": 0,
      "outputs": []
    },
    {
      "cell_type": "code",
      "metadata": {
        "id": "Pi-fObu0K9vs",
        "colab_type": "code",
        "colab": {}
      },
      "source": [
        "#Vocês devem baixar e descompactar cada arquivo zip desse link do meu github: https://github.com/Pendulun/TP2-IBD/tree/master/Partes\n",
        "conn = sqlite3.connect('./Ocorrencias.db') # Esse é o BD. Ele vai ser gerado automaticamente no mesmo diretório que salvarem esse .ipynb\n",
        "cursor = conn.cursor()"
      ],
      "execution_count": 0,
      "outputs": []
    },
    {
      "cell_type": "code",
      "metadata": {
        "id": "VmhBUWNbLglO",
        "colab_type": "code",
        "colab": {}
      },
      "source": [
        "# Para cada arquivo descompactado, vocês vão executar isso aqui substituindo o caminho do arquivo\n",
        "#Porém, porcausa das chaves estrangeiras, talvez seja necessário executar isso em uma ordem específica, sendo ela:\n",
        "# ocorrencia, tipoacidente,ocorrenciaacidente,municipio,tipounidadeoperacional,unidadeoperacional,pessoa,tipoenvolvido,\n",
        "# ocorrenciapessoa,tipoveiculo ,uf,ocorrenciaveiculo, veiculo,marcaveiculo,localbr (LEMBRANDO QUE UF E LOCALBR ESTÃO NO MESMO ARQUIVO)\n",
        "f = io.open('./caminho do arquivo', 'r',encoding = \"ISO-8859-1\") \n",
        "sql = f.read()\n",
        "cursor.executescript(sql)"
      ],
      "execution_count": 0,
      "outputs": []
    },
    {
      "cell_type": "code",
      "metadata": {
        "id": "Z-fw4UbtMixU",
        "colab_type": "code",
        "colab": {}
      },
      "source": [
        "#Esse comando PRAGMA está exemplificado na especificação do tp pelo professor, acredito que seja assim que executa\n",
        "cursor.execute(\"PRAGMA cache_size = 0\")"
      ],
      "execution_count": 0,
      "outputs": []
    },
    {
      "cell_type": "markdown",
      "metadata": {
        "id": "w5LNky16OWtz",
        "colab_type": "text"
      },
      "source": [
        "Como combinado, cada um deve pensar em pelo menos 4 consultas sendo que cada consulta deve ser feita de duas formas diferentes para testes de eficiência. Além disso, tentem fazer consultas que suprimam as necessidades das especificações:\n",
        "- 2 consultas envolvendo as operações de seleção e projeção;\n",
        "- 3 consultas envolvendo a junção de duas relações;\n",
        "- 3 consultas envolvendo a junção de três ou mais relações;\n",
        "- 2 consultas envolvendo funções de agregação sobre o resultado da junção de pelo menos duas relações.\n",
        "\n",
        "Obviamente, se cada um precisa fazer apenas 4 consultas, não será possível cada um fazer as 10 consultas necessárias, porém, se tentarem bolar 1 consulta por requisito já fica ótimo."
      ]
    },
    {
      "cell_type": "code",
      "metadata": {
        "id": "aDg78axFMzr7",
        "colab_type": "code",
        "colab": {}
      },
      "source": [
        "#Esse comando é para ver o tempo que leva para executar a query. Ela também é especificada pelo professor.\n",
        "#Não sei se ela deve ficar aqui, em cima da célula de consulta, ou na própria célula de consulta\n",
        "%%timeit"
      ],
      "execution_count": 0,
      "outputs": []
    },
    {
      "cell_type": "code",
      "metadata": {
        "id": "Z3_L6cpILyNF",
        "colab_type": "code",
        "colab": {}
      },
      "source": [
        "df = pd.read_sql_query(\"Consulta 1, versão 1\",conn)\n",
        "df"
      ],
      "execution_count": 0,
      "outputs": []
    },
    {
      "cell_type": "code",
      "metadata": {
        "id": "MZ9zr5fAN9Nd",
        "colab_type": "code",
        "colab": {}
      },
      "source": [
        "%%timeit"
      ],
      "execution_count": 0,
      "outputs": []
    },
    {
      "cell_type": "code",
      "metadata": {
        "id": "ArSXAvoAN9iz",
        "colab_type": "code",
        "colab": {}
      },
      "source": [
        "df = pd.read_sql_query(\"Consulta 1, versão 2\",conn)\n",
        "df"
      ],
      "execution_count": 0,
      "outputs": []
    },
    {
      "cell_type": "code",
      "metadata": {
        "id": "fB4g0Yd3ODKT",
        "colab_type": "code",
        "colab": {}
      },
      "source": [
        "%%timeit"
      ],
      "execution_count": 0,
      "outputs": []
    },
    {
      "cell_type": "code",
      "metadata": {
        "id": "tHSfvhSRODc7",
        "colab_type": "code",
        "colab": {}
      },
      "source": [
        "df = pd.read_sql_query(\"Consulta 2, versão 1\",conn)\n",
        "df"
      ],
      "execution_count": 0,
      "outputs": []
    },
    {
      "cell_type": "code",
      "metadata": {
        "id": "1Bgz_LnmOGu8",
        "colab_type": "code",
        "colab": {}
      },
      "source": [
        "%%timeit"
      ],
      "execution_count": 0,
      "outputs": []
    },
    {
      "cell_type": "code",
      "metadata": {
        "id": "gWhVdiCdOHIr",
        "colab_type": "code",
        "colab": {}
      },
      "source": [
        "df = pd.read_sql_query(\"Consulta 2, versão 2\",conn)\n",
        "df"
      ],
      "execution_count": 0,
      "outputs": []
    },
    {
      "cell_type": "code",
      "metadata": {
        "id": "yO7AnchROJic",
        "colab_type": "code",
        "colab": {}
      },
      "source": [
        "%%timeit"
      ],
      "execution_count": 0,
      "outputs": []
    },
    {
      "cell_type": "code",
      "metadata": {
        "id": "zshcAqUYOJ0c",
        "colab_type": "code",
        "colab": {}
      },
      "source": [
        "df = pd.read_sql_query(\"Consulta 3, versão 1\",conn)\n",
        "df"
      ],
      "execution_count": 0,
      "outputs": []
    },
    {
      "cell_type": "code",
      "metadata": {
        "id": "v7WtubliON2U",
        "colab_type": "code",
        "colab": {}
      },
      "source": [
        "%%timeit"
      ],
      "execution_count": 0,
      "outputs": []
    },
    {
      "cell_type": "code",
      "metadata": {
        "id": "cs0uc-YvOOFg",
        "colab_type": "code",
        "colab": {}
      },
      "source": [
        "df = pd.read_sql_query(\"Consulta 3, versão 2\",conn)\n",
        "df"
      ],
      "execution_count": 0,
      "outputs": []
    },
    {
      "cell_type": "code",
      "metadata": {
        "id": "BnOT4OjdOQml",
        "colab_type": "code",
        "colab": {}
      },
      "source": [
        "%%timeit"
      ],
      "execution_count": 0,
      "outputs": []
    },
    {
      "cell_type": "code",
      "metadata": {
        "id": "uLRmCqX8OQzO",
        "colab_type": "code",
        "colab": {}
      },
      "source": [
        "df = pd.read_sql_query(\"Consulta 4, versão 1\",conn)\n",
        "df"
      ],
      "execution_count": 0,
      "outputs": []
    },
    {
      "cell_type": "code",
      "metadata": {
        "id": "OCEWbeSHOTk8",
        "colab_type": "code",
        "colab": {}
      },
      "source": [
        "%%timeit"
      ],
      "execution_count": 0,
      "outputs": []
    },
    {
      "cell_type": "code",
      "metadata": {
        "id": "ppWD_KpWOTxd",
        "colab_type": "code",
        "colab": {}
      },
      "source": [
        "df = pd.read_sql_query(\"Consulta 4, versão 2\",conn)\n",
        "df"
      ],
      "execution_count": 0,
      "outputs": []
    }
  ]
}