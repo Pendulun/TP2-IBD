{
 "cells": [
  {
   "cell_type": "code",
   "execution_count": null,
   "metadata": {
    "colab": {},
    "colab_type": "code",
    "id": "yVqQXhqVK7Ip"
   },
   "outputs": [],
   "source": [
    "import io\n",
    "import sqlite3\n",
    "import pandas as pd"
   ]
  },
  {
   "cell_type": "code",
   "execution_count": null,
   "metadata": {
    "colab": {},
    "colab_type": "code",
    "id": "Pi-fObu0K9vs"
   },
   "outputs": [],
   "source": [
    "#Vocês devem executar o script do outro notebook chamado PopulandoBD: https://github.com/Pendulun/TP2-IBD/blob/master/PopulandoBD.ipynb\n",
    "conn = sqlite3.connect('./BDpopulado/database.db') # Esse é o BD. Ele vai ser gerado automaticamente no mesmo diretório que salvarem esse .ipynb\n",
    "cursor = conn.cursor()"
   ]
  },
  {
   "cell_type": "code",
   "execution_count": null,
   "metadata": {
    "colab": {},
    "colab_type": "code",
    "id": "Z-fw4UbtMixU"
   },
   "outputs": [],
   "source": [
    "#Esse comando PRAGMA está exemplificado na especificação do tp pelo professor, acredito que seja assim que executa\n",
    "cursor.execute(\"PRAGMA cache_size = 0\")"
   ]
  },
  {
   "cell_type": "markdown",
   "metadata": {
    "colab_type": "text",
    "id": "w5LNky16OWtz"
   },
   "source": [
    "Como combinado, cada um deve pensar em pelo menos 4 consultas sendo que cada consulta deve ser feita de duas formas diferentes para testes de eficiência. Além disso, tentem fazer consultas que suprimam as necessidades das especificações:\n",
    "- 2 consultas envolvendo as operações de seleção e projeção;\n",
    "- 3 consultas envolvendo a junção de duas relações;\n",
    "- 3 consultas envolvendo a junção de três ou mais relações;\n",
    "- 2 consultas envolvendo funções de agregação sobre o resultado da junção de pelo menos duas relações.\n",
    "\n",
    "Obviamente, se cada um precisa fazer apenas 4 consultas, não será possível cada um fazer as 10 consultas necessárias, porém, se tentarem bolar 1 consulta por requisito já fica ótimo."
   ]
  },
  {
   "cell_type": "code",
   "execution_count": null,
   "metadata": {
    "colab": {},
    "colab_type": "code",
    "id": "aDg78axFMzr7"
   },
   "outputs": [],
   "source": [
    "#Esse comando é para ver o tempo que leva para executar a query. Ela também é especificada pelo professor.\n",
    "#%timeit"
   ]
  },
  {
   "cell_type": "code",
   "execution_count": null,
   "metadata": {
    "colab": {},
    "colab_type": "code",
    "id": "Z3_L6cpILyNF"
   },
   "outputs": [],
   "source": [
    "%timeit df = pd.read_sql_query(\"Consulta 1, versão 1\",conn)\n",
    "df"
   ]
  },
  {
   "cell_type": "code",
   "execution_count": null,
   "metadata": {
    "colab": {},
    "colab_type": "code",
    "id": "ArSXAvoAN9iz"
   },
   "outputs": [],
   "source": [
    "%timeit df = pd.read_sql_query(\"Consulta 1, versão 2\",conn)\n",
    "df"
   ]
  },
  {
   "cell_type": "code",
   "execution_count": null,
   "metadata": {
    "colab": {},
    "colab_type": "code",
    "id": "tHSfvhSRODc7"
   },
   "outputs": [],
   "source": [
    "%timeit df = pd.read_sql_query(\"Consulta 2, versão 1\",conn)\n",
    "df"
   ]
  },
  {
   "cell_type": "code",
   "execution_count": null,
   "metadata": {
    "colab": {},
    "colab_type": "code",
    "id": "gWhVdiCdOHIr"
   },
   "outputs": [],
   "source": [
    "%timeit df = pd.read_sql_query(\"Consulta 2, versão 2\",conn)\n",
    "df"
   ]
  },
  {
   "cell_type": "code",
   "execution_count": null,
   "metadata": {
    "colab": {},
    "colab_type": "code",
    "id": "zshcAqUYOJ0c"
   },
   "outputs": [],
   "source": [
    "%timeit df = pd.read_sql_query(\"Consulta 3, versão 1\",conn)\n",
    "df"
   ]
  },
  {
   "cell_type": "code",
   "execution_count": null,
   "metadata": {
    "colab": {},
    "colab_type": "code",
    "id": "cs0uc-YvOOFg"
   },
   "outputs": [],
   "source": [
    "%timeit df = pd.read_sql_query(\"Consulta 3, versão 2\",conn)\n",
    "df"
   ]
  },
  {
   "cell_type": "code",
   "execution_count": null,
   "metadata": {
    "colab": {},
    "colab_type": "code",
    "id": "uLRmCqX8OQzO"
   },
   "outputs": [],
   "source": [
    "%timeit df = pd.read_sql_query(\"Consulta 4, versão 1\",conn)\n",
    "df"
   ]
  },
  {
   "cell_type": "code",
   "execution_count": null,
   "metadata": {
    "colab": {},
    "colab_type": "code",
    "id": "ppWD_KpWOTxd"
   },
   "outputs": [],
   "source": [
    "%timeit df = pd.read_sql_query(\"Consulta 4, versão 2\",conn)\n",
    "df"
   ]
  }
 ],
 "metadata": {
  "colab": {
   "name": "Template Queries.ipynb",
   "provenance": []
  },
  "kernelspec": {
   "display_name": "Python 3",
   "language": "python",
   "name": "python3"
  },
  "language_info": {
   "codemirror_mode": {
    "name": "ipython",
    "version": 3
   },
   "file_extension": ".py",
   "mimetype": "text/x-python",
   "name": "python",
   "nbconvert_exporter": "python",
   "pygments_lexer": "ipython3",
   "version": "3.7.3"
  }
 },
 "nbformat": 4,
 "nbformat_minor": 1
}
